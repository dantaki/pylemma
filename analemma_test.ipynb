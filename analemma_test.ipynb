{
 "cells": [
  {
   "cell_type": "code",
   "execution_count": 5,
   "metadata": {},
   "outputs": [],
   "source": []
  },
  {
   "cell_type": "code",
   "execution_count": 81,
   "metadata": {},
   "outputs": [
    {
     "name": "stdout",
     "output_type": "stream",
     "text": [
      "0 2018-01-01 00:00:00+00:00\n",
      "120 2018-01-11 00:00:00+00:00\n",
      "240 2018-01-21 00:00:00+00:00\n",
      "360 2018-02-01 00:00:00+00:00\n",
      "480 2018-02-11 00:00:00+00:00\n",
      "600 2018-02-21 00:00:00+00:00\n",
      "720 2018-03-01 00:00:00+00:00\n",
      "840 2018-03-11 00:00:00+00:00\n",
      "960 2018-03-21 00:00:00+00:00\n",
      "1080 2018-04-01 00:00:00+00:00\n",
      "1200 2018-04-11 00:00:00+00:00\n",
      "1320 2018-04-21 00:00:00+00:00\n",
      "1440 2018-05-01 00:00:00+00:00\n",
      "1560 2018-05-11 00:00:00+00:00\n",
      "1680 2018-05-21 00:00:00+00:00\n",
      "1800 2018-06-01 00:00:00+00:00\n",
      "1920 2018-06-11 00:00:00+00:00\n",
      "2040 2018-06-21 00:00:00+00:00\n",
      "2160 2018-07-01 00:00:00+00:00\n",
      "2280 2018-07-11 00:00:00+00:00\n",
      "2400 2018-07-21 00:00:00+00:00\n",
      "2520 2018-08-01 00:00:00+00:00\n",
      "2640 2018-08-11 00:00:00+00:00\n",
      "2760 2018-08-21 00:00:00+00:00\n",
      "2880 2018-09-01 00:00:00+00:00\n",
      "3000 2018-09-11 00:00:00+00:00\n",
      "3120 2018-09-21 00:00:00+00:00\n",
      "3240 2018-10-01 00:00:00+00:00\n",
      "3360 2018-10-11 00:00:00+00:00\n",
      "3480 2018-10-21 00:00:00+00:00\n",
      "3600 2018-11-01 00:00:00+00:00\n",
      "3720 2018-11-11 00:00:00+00:00\n",
      "3840 2018-11-21 00:00:00+00:00\n",
      "3960 2018-12-01 00:00:00+00:00\n",
      "4080 2018-12-11 00:00:00+00:00\n",
      "4200 2018-12-21 00:00:00+00:00\n"
     ]
    }
   ],
   "source": [
    "d = get_dates(2018)\n",
    "for i,_d in enumerate(d):\n",
    "    if i % 120 == 0:\n"
   ]
  },
  {
   "cell_type": "code",
   "execution_count": 4,
   "metadata": {},
   "outputs": [],
   "source": [
    "from pysolar.solar import *\n",
    "def get_dates(year):\n",
    "    months = list(range(1,13))\n",
    "    days = list(range(1,30,10))\n",
    "    hours = list(range(0,24))\n",
    "    minutes = list(range(0,61,15))\n",
    "    minutes[-1] = minutes[-1]-1\n",
    "    dates = []\n",
    "    for m in months:\n",
    "        for d in days:\n",
    "            for h in hours:\n",
    "                for _min in minutes:\n",
    "                    dates.append(datetime.datetime(year,m,d,h,_min,tzinfo=datetime.timezone.utc))\n",
    "    return dates\n",
    "def max_day_alt(alt):\n",
    "    return alt.index(max(alt))\n",
    "def format_datetime(d):\n",
    "    return str(d).split('dsf').pop(0)\n",
    "def solar_alt_azi(lat,lon,year=2019,verb=True):\n",
    "    dates = get_dates(year)\n",
    "    _alt,_azi = [],[]\n",
    "    alt,azi,dat = [],[],[]\n",
    "    i,I=0,0\n",
    "    for d in dates:\n",
    "        _alt.append(get_altitude(lat,lon,d))\n",
    "        _azi.append(get_azimuth(lat,lon,d))\n",
    "        if i % 120 ==0 and i>0:\n",
    "            max_ind = max_day_alt(_alt)\n",
    "            d_fmt = format_datetime(dates[I+max_ind])\n",
    "            \n",
    "            alt.append(_alt[max_ind])\n",
    "            azi.append(_azi[max_ind])\n",
    "            dat.append(d_fmt)\n",
    "            \n",
    "            _alt, _azi = [],[]\n",
    "            I+=120\n",
    "        i+=1\n",
    "    max_ind = max_day_alt(_alt)\n",
    "    d_fmt = format_datetime(dates[I+max_ind])\n",
    "    alt.append(_alt[max_ind])\n",
    "    azi.append(_azi[max_ind])\n",
    "    dat.append(d_fmt)\n",
    "    return alt,azi,dat"
   ]
  },
  {
   "cell_type": "code",
   "execution_count": 5,
   "metadata": {},
   "outputs": [
    {
     "name": "stderr",
     "output_type": "stream",
     "text": [
      "/Users/tacitus/anaconda3/envs/basemap/lib/python3.6/site-packages/pysolar/solartime.py:112: UserWarning: I don't know about leap seconds after 2018\n",
      "  (leap_seconds_base_year + len(leap_seconds_adjustments) - 1)\n"
     ]
    }
   ],
   "source": [
    "sd_lat, sd_lon = 32.753555, -117.160313\n",
    "alt,azi,dates = solar_alt_azi(sd_lat,sd_lon)\n"
   ]
  },
  {
   "cell_type": "code",
   "execution_count": 7,
   "metadata": {},
   "outputs": [],
   "source": [
    "import matplotlib.pyplot as plt\n",
    "%matplotlib inline"
   ]
  },
  {
   "cell_type": "code",
   "execution_count": 8,
   "metadata": {},
   "outputs": [
    {
     "data": {
      "text/plain": [
       "<matplotlib.collections.PathCollection at 0x11ac7e588>"
      ]
     },
     "execution_count": 8,
     "metadata": {},
     "output_type": "execute_result"
    },
    {
     "data": {
      "image/png": "[encoded data removed]",
      "text/plain": [
       "<Figure size 432x288 with 1 Axes>"
      ]
     },
     "metadata": {
      "needs_background": "light"
     },
     "output_type": "display_data"
    }
   ],
   "source": [
    "plt.scatter(azi,alt)"
   ]
  },
  {
   "cell_type": "code",
   "execution_count": 128,
   "metadata": {},
   "outputs": [
    {
     "data": {
      "text/plain": [
       "['2019-01-01 19:59:00+00:00',\n",
       " '2019-01-11 19:45:00+00:00',\n",
       " '2019-01-21 19:59:00+00:00',\n",
       " '2019-02-01 19:59:00+00:00',\n",
       " '2019-02-11 19:59:00+00:00',\n",
       " '2019-02-21 19:59:00+00:00',\n",
       " '2019-03-01 19:59:00+00:00',\n",
       " '2019-03-11 19:45:00+00:00',\n",
       " '2019-03-21 19:45:00+00:00',\n",
       " '2019-04-01 19:45:00+00:00',\n",
       " '2019-04-11 19:30:00+00:00',\n",
       " '2019-04-21 19:30:00+00:00',\n",
       " '2019-05-01 19:30:00+00:00',\n",
       " '2019-05-11 19:30:00+00:00',\n",
       " '2019-05-21 19:30:00+00:00',\n",
       " '2019-06-01 19:30:00+00:00',\n",
       " '2019-06-11 19:30:00+00:00',\n",
       " '2019-06-21 19:30:00+00:00',\n",
       " '2019-07-01 19:45:00+00:00',\n",
       " '2019-07-11 19:45:00+00:00',\n",
       " '2019-07-21 19:45:00+00:00',\n",
       " '2019-08-01 19:45:00+00:00',\n",
       " '2019-08-11 19:45:00+00:00',\n",
       " '2019-08-21 19:30:00+00:00',\n",
       " '2019-09-01 19:30:00+00:00',\n",
       " '2019-09-11 19:30:00+00:00',\n",
       " '2019-09-21 19:30:00+00:00',\n",
       " '2019-10-01 19:30:00+00:00',\n",
       " '2019-10-11 19:15:00+00:00',\n",
       " '2019-10-21 19:15:00+00:00',\n",
       " '2019-11-01 19:15:00+00:00',\n",
       " '2019-11-11 19:15:00+00:00',\n",
       " '2019-11-21 19:15:00+00:00',\n",
       " '2019-12-01 19:30:00+00:00',\n",
       " '2019-12-11 19:30:00+00:00',\n",
       " '2019-12-21 19:30:00+00:00']"
      ]
     },
     "execution_count": 128,
     "metadata": {},
     "output_type": "execute_result"
    }
   ],
   "source": [
    "dates"
   ]
  },
  {
   "cell_type": "code",
   "execution_count": null,
   "metadata": {},
   "outputs": [],
   "source": []
  }
 ],
 "metadata": {
  "kernelspec": {
   "display_name": "Python 3",
   "language": "python",
   "name": "python3"
  },
  "language_info": {
   "codemirror_mode": {
    "name": "ipython",
    "version": 3
   },
   "file_extension": ".py",
   "mimetype": "text/x-python",
   "name": "python",
   "nbconvert_exporter": "python",
   "pygments_lexer": "ipython3",
   "version": "3.6.8"
  }
 },
 "nbformat": 4,
 "nbformat_minor": 2
}
